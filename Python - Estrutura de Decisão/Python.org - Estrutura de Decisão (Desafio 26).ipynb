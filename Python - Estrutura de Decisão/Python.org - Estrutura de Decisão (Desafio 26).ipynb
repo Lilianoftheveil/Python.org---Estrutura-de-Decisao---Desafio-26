{
 "cells": [
  {
   "cell_type": "code",
   "execution_count": null,
   "id": "f704985c",
   "metadata": {},
   "outputs": [],
   "source": [
    "Python - Lista de Exercícios (Estrutura de Decisão) \n",
    "link: https://wiki.python.org.br/EstruturaDeDecisao"
   ]
  },
  {
   "cell_type": "markdown",
   "id": "0788cfd9",
   "metadata": {},
   "source": [
    "26) Um posto está vendendo combustíveis com a seguinte tabela de descontos:\n",
    "a) Álcool:\n\n",
    "b) até 20 litros, desconto de 3% por litro\n",
    "c) acima de 20 litros, desconto de 5% por litro\n",
    "d) Gasolina:\n",
    "e) até 20 litros, desconto de 4% por litro acima de 20 litros, desconto de 6% por litro \n",
    "\n",
    "Escreva um algoritmo que leia o número de litros vendidos, \n",
    "o tipo de combustível (codificado da seguinte forma: A-álcool, G-gasolina), \n",
    "calcule e imprima o valor a ser pago pelo cliente sabendo-se que o preço do litro da gasolina \n",
    "é 2,50 (reais) o preço do litro do álcool é 1,90 (reais)."
   ]
  },
  {
   "cell_type": "code",
   "execution_count": null,
   "id": "6d7cf684",
   "metadata": {},
   "outputs": [],
   "source": [
    "Obs.: Visando desenvolver o programa de forma mais dinâmica e menos suscetível a erros, adicionei \n",
    "outras estruturas no corpo do código. De modo que apenas números e strings válidas sejam aceitas\n",
    "durante sua execução."
   ]
  },
  {
   "cell_type": "code",
   "execution_count": null,
   "id": "eb6d47b6",
   "metadata": {},
   "outputs": [],
   "source": [
    "while True:\n",
    "  x = input(\"Quantidade de Litros: \")\n",
    "  try:\n",
    "    float(x)\n",
    "    break\n",
    "  except:\n",
    "    print(\"Por favor, digite apenas números.\")\n",
    "    continue\n",
    "\n",
    "while True:\n",
    "    y = input(\"Tipo de Combustível: (A) álcool / (G) gasolina \").upper()\n",
    "    if y != \"A\" and y != \"G\":\n",
    "      print(\"Por favor, digite apenas uma letra (A ou G).\")\n",
    "      continue\n",
    "    else:\n",
    "      break\n",
    "\n",
    "if y == \"A\":\n",
    "  if float(x) <= 20:\n",
    "    d = round((float(x) * 1.90) * 0.03, 2)\n",
    "    v = round((float(x) * 1.90) - d, 2)\n",
    "  elif float(x) > 20:\n",
    "    d = round((float(x) * 1.90) * 0.05, 2)\n",
    "    v = round((float(x) * 1.90) - d, 2)\n",
    "\n",
    "if y == \"G\":\n",
    "  if float(x) <= 20:\n",
    "    d = round((float(x) * 2.50) * 0.04, 2)\n",
    "    v = round((float(x) * 2.50) - d, 2)\n",
    "  elif float(x) > 20:\n",
    "    d = round((float(x) * 2.50) * 0.06, 2)\n",
    "    v = round((float(x) * 2.50) - d, 2)\n",
    "\n",
    "print(f\"Quantidade de Litros: {x}\")\n",
    "print(f\"Tipo de Combustível: {y}\")\n",
    "print(f\"Valor Final: {v}\")"
   ]
  }
 ],
 "metadata": {
  "kernelspec": {
   "display_name": "Python 3 (ipykernel)",
   "language": "python",
   "name": "python3"
  },
  "language_info": {
   "codemirror_mode": {
    "name": "ipython",
    "version": 3
   },
   "file_extension": ".py",
   "mimetype": "text/x-python",
   "name": "python",
   "nbconvert_exporter": "python",
   "pygments_lexer": "ipython3",
   "version": "3.8.10"
  }
 },
 "nbformat": 4,
 "nbformat_minor": 5
}
